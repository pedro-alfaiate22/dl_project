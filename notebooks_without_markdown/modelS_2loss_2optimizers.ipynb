{
 "cells": [
  {
   "cell_type": "markdown",
   "source": [
    "## Importação de bibliotecas"
   ],
   "metadata": {
    "collapsed": false
   },
   "id": "5e313f93b1c8dbbc"
  },
  {
   "metadata": {},
   "cell_type": "code",
   "source": [
    "from tensorflow import keras\n",
    "from keras import layers\n",
    "from keras.preprocessing import image_dataset_from_directory\n",
    "import matplotlib.pyplot as plt\n",
    "from keras.utils import to_categorical\n",
    "import tensorflow as tf\n",
    "import numpy as np\n",
    "from keras.preprocessing import image\n",
    "from sklearn.metrics import classification_report\n",
    "import seaborn as sns\n",
    "import pandas as pd\n",
    "from sklearn.metrics import confusion_matrix\n",
    "import os, shutil"
   ],
   "id": "4c543b742e24c2c1",
   "outputs": [],
   "execution_count": null
  },
  {
   "cell_type": "code",
   "source": [
    "def get_true_pred(model, dataset):\n",
    "    y_true = []\n",
    "    y_pred = []\n",
    "    for images, labels in dataset.unbatch().batch(1):\n",
    "        y_true.append(np.argmax(labels.numpy()))\n",
    "        pred = model.predict(images, verbose=0)\n",
    "        y_pred.append(np.argmax(pred))\n",
    "    return np.array(y_true), np.array(y_pred)"
   ],
   "metadata": {
    "collapsed": false
   },
   "id": "d4237269707d6e94",
   "outputs": [],
   "execution_count": null
  },
  {
   "cell_type": "code",
   "id": "initial_id",
   "metadata": {
    "collapsed": true
   },
   "source": [
    "train_dir = 'Dataset/archive/seg_train'\n",
    "validation_dir = 'Dataset/archive/seg_val'\n",
    "test_dir = 'Dataset/archive/seg_test'\n",
    "\n",
    "train_buildings_dir = 'Dataset/archive/seg_train/buildings/'\n",
    "train_forest_dir = 'Dataset/archive/seg_train/forest'\n",
    "train_glacier_dir = 'Dataset/archive/seg_train/glacier'\n",
    "train_mountain_dir = 'Dataset/archive/seg_train/mountain'\n",
    "train_sea_dir = 'Dataset/archive/seg_train/sea'\n",
    "train_street_dir = 'Dataset/archive/seg_train/street'\n",
    "\n",
    "val_buildings_dir = 'Dataset/archive/seg_val/buildings'\n",
    "val_forest_dir = 'Dataset/archive/seg_val/forest'\n",
    "val_glacier_dir = 'Dataset/archive/seg_val/glacier'\n",
    "val_mountain_dir = 'Dataset/archive/seg_val/mountain'\n",
    "val_sea_dir = 'Dataset/archive/seg_val/sea'\n",
    "val_street_dir = 'Dataset/archive/seg_val/street'\n",
    "\n",
    "test_buildings_dir = 'Dataset/archive/seg_test/buildings'\n",
    "test_forest_dir = 'Dataset/archive/seg_test/forest'\n",
    "test_glacier_dir = 'Dataset/archive/seg_test/glacier'\n",
    "test_mountain_dir = 'Dataset/archive/seg_test/mountain'\n",
    "test_sea_dir = 'Dataset/archive/seg_test/sea'\n",
    "test_street_dir = 'Dataset/archive/seg_test/street'\n",
    "\n",
    "print('total training buildings images:', len(os.listdir(train_buildings_dir)))\n",
    "print('total training forest images:', len(os.listdir(train_forest_dir)))\n",
    "print('total training glacier images:', len(os.listdir(train_glacier_dir)))\n",
    "print('total training mountain images:', len(os.listdir(train_mountain_dir)))\n",
    "print('total training sea images:', len(os.listdir(train_sea_dir)))\n",
    "print('total training street images:', len(os.listdir(train_street_dir)))\n",
    "\n",
    "print('total validation buildings images:', len(os.listdir(val_buildings_dir)))\n",
    "print('total validation forest images:', len(os.listdir(val_forest_dir)))\n",
    "print('total validation glacier images:', len(os.listdir(val_glacier_dir)))\n",
    "print('total validation mountain images:', len(os.listdir(val_mountain_dir)))\n",
    "print('total validation sea images:', len(os.listdir(val_sea_dir)))\n",
    "print('total validation street images:', len(os.listdir(val_street_dir)))\n",
    "\n",
    "print('total test buildings images:', len(os.listdir(test_buildings_dir)))\n",
    "print('total test forest images:', len(os.listdir(test_forest_dir)))\n",
    "print('total test glacier images:', len(os.listdir(test_glacier_dir)))\n",
    "print('total test mountain images:', len(os.listdir(test_mountain_dir)))\n",
    "print('total test sea images:', len(os.listdir(test_sea_dir)))\n",
    "print('total test street images:', len(os.listdir(test_street_dir)))\n"
   ],
   "outputs": [],
   "execution_count": null
  },
  {
   "cell_type": "code",
   "id": "e6cb4482c25c3e80",
   "metadata": {},
   "source": [
    "IMG_SIZE = 150\n",
    "BATCH_SIZE = 32\n",
    "\n",
    "# Processing the data\n",
    "train_dataset = image_dataset_from_directory(\n",
    "    train_dir,\n",
    "    label_mode='categorical',\n",
    "    image_size=(IMG_SIZE, IMG_SIZE),\n",
    "    batch_size=BATCH_SIZE)\n",
    "\n",
    "validation_dataset = image_dataset_from_directory(\n",
    "    validation_dir,\n",
    "    label_mode='categorical',\n",
    "    image_size=(IMG_SIZE, IMG_SIZE),\n",
    "    batch_size=BATCH_SIZE)\n",
    "\n",
    "test_dataset = image_dataset_from_directory(\n",
    "    test_dir,\n",
    "    label_mode='categorical',\n",
    "    image_size=(IMG_SIZE, IMG_SIZE),\n",
    "    batch_size=BATCH_SIZE)\n",
    "\n",
    "print(test_dataset)\n",
    "class_names = train_dataset.class_names\n",
    "print(\"Classes:\", class_names)"
   ],
   "outputs": [],
   "execution_count": null
  },
  {
   "cell_type": "code",
   "id": "6c53adb184862914",
   "metadata": {},
   "source": [
    "inputs = keras.Input(shape=(IMG_SIZE, IMG_SIZE, 3))\n",
    "x = layers.Rescaling(1./255)(inputs)\n",
    "x = layers.Conv2D(filters=32, kernel_size=3, activation=\"relu\")(x)\n",
    "x = layers.MaxPooling2D(pool_size=2)(x)\n",
    "x = layers.Conv2D(filters=64, kernel_size=3, activation=\"relu\")(x)\n",
    "x = layers.MaxPooling2D(pool_size=2)(x)\n",
    "x = layers.Conv2D(filters=128, kernel_size=3, activation=\"relu\")(x)\n",
    "x = layers.MaxPooling2D(pool_size=2)(x)\n",
    "x = layers.Conv2D(filters=128, kernel_size=3, activation=\"relu\")(x)\n",
    "x = layers.MaxPooling2D(pool_size=2)(x)\n",
    "x = layers.Flatten()(x)\n",
    "x = layers.Dense(512, activation=\"relu\")(x)\n",
    "outputs = layers.Dense(len(class_names), activation=\"softmax\")(x)\n",
    "model = keras.Model(inputs=inputs, outputs=outputs)\n",
    "\n",
    "print(model.summary())"
   ],
   "outputs": [],
   "execution_count": null
  },
  {
   "cell_type": "code",
   "id": "e597d94b9def84c9",
   "metadata": {},
   "source": [
    "model.compile(\n",
    "loss='categorical_crossentropy',\n",
    "optimizer=tf.keras.optimizers.RMSprop(learning_rate=1e-4),\n",
    "metrics=['acc'])"
   ],
   "outputs": [],
   "execution_count": null
  },
  {
   "cell_type": "code",
   "id": "365c02292c02c77",
   "metadata": {},
   "source": [
    "checkpoint_filepath = 'modelS_CatCross_RMS.keras'\n",
    "model_checkpoint_callback = keras.callbacks.ModelCheckpoint(\n",
    "    filepath=checkpoint_filepath,\n",
    "    monitor='val_loss',\n",
    "    save_best_only=True)"
   ],
   "outputs": [],
   "execution_count": null
  },
  {
   "cell_type": "code",
   "id": "417347d31adecaf8",
   "metadata": {},
   "source": [
    "history_CatCross_RMS = model.fit(\n",
    "train_dataset,\n",
    "epochs=50,\n",
    "validation_data=validation_dataset,\n",
    "callbacks=[model_checkpoint_callback])"
   ],
   "outputs": [],
   "execution_count": null
  },
  {
   "cell_type": "code",
   "metadata": {
    "collapsed": false
   },
   "source": [
    "best_epoch = np.argmin(history_CatCross_RMS.history['val_loss']) + 1\n",
    "print(f\"Melhor época (menor val_loss): {best_epoch}\")"
   ],
   "id": "dd88f95f59415fa8",
   "outputs": [],
   "execution_count": null
  },
  {
   "cell_type": "code",
   "id": "41cfada62ca80240",
   "metadata": {},
   "source": [
    "modelS_CatCross_RMS = keras.models.load_model('modelS_CatCross_RMS.keras')\n",
    "val_loss, val_acc = modelS_CatCross_RMS.evaluate(validation_dataset)\n",
    "print('val_acc:', val_acc)"
   ],
   "outputs": [],
   "execution_count": null
  },
  {
   "cell_type": "code",
   "id": "aef634bc40c74425",
   "metadata": {},
   "source": [
    "acc = history_CatCross_RMS.history['acc']\n",
    "val_acc = history_CatCross_RMS.history['val_acc']\n",
    "loss = history_CatCross_RMS.history['loss']\n",
    "val_loss = history_CatCross_RMS.history['val_loss']\n",
    "epochs = range(1, len(acc) + 1)\n",
    "plt.plot(epochs, acc, 'bo', label='Training acc')\n",
    "plt.plot(epochs, val_acc, 'b', label='Validation acc')\n",
    "plt.title('Training and validation accuracy')\n",
    "plt.legend()\n",
    "plt.figure()\n",
    "plt.plot(epochs, loss, 'bo', label='Training loss')\n",
    "plt.plot(epochs, val_loss, 'b', label='Validation loss')\n",
    "plt.title('Training and validation loss')\n",
    "plt.legend()\n",
    "plt.show()"
   ],
   "outputs": [],
   "execution_count": null
  },
  {
   "cell_type": "code",
   "source": [
    "y_true, y_pred = get_true_pred(modelS_CatCross_RMS, test_dataset)\n",
    "report = classification_report(y_true, y_pred, target_names=class_names, output_dict=True)\n",
    "class_only_report = {k: v for k, v in report.items() if k in class_names}\n",
    "df = pd.DataFrame(class_only_report).T\n",
    "print(df[['precision', 'recall', 'f1-score']].round(3))\n"
   ],
   "metadata": {
    "collapsed": false
   },
   "id": "166ffb36390e282c",
   "outputs": [],
   "execution_count": null
  },
  {
   "cell_type": "code",
   "source": [
    "inputs = keras.Input(shape=(IMG_SIZE, IMG_SIZE, 3))\n",
    "x = layers.Rescaling(1./255)(inputs)\n",
    "x = layers.Conv2D(filters=32, kernel_size=3, activation=\"relu\")(x)\n",
    "x = layers.MaxPooling2D(pool_size=2)(x)\n",
    "x = layers.Conv2D(filters=64, kernel_size=3, activation=\"relu\")(x)\n",
    "x = layers.MaxPooling2D(pool_size=2)(x)\n",
    "x = layers.Conv2D(filters=128, kernel_size=3, activation=\"relu\")(x)\n",
    "x = layers.MaxPooling2D(pool_size=2)(x)\n",
    "x = layers.Conv2D(filters=128, kernel_size=3, activation=\"relu\")(x)\n",
    "x = layers.MaxPooling2D(pool_size=2)(x)\n",
    "x = layers.Flatten()(x)\n",
    "x = layers.Dense(512, activation=\"relu\")(x)\n",
    "outputs = layers.Dense(len(class_names), activation=\"softmax\")(x)\n",
    "model = keras.Model(inputs=inputs, outputs=outputs)\n",
    "\n",
    "print(model.summary())"
   ],
   "metadata": {
    "collapsed": false
   },
   "id": "4f51e81a9e358741",
   "outputs": [],
   "execution_count": null
  },
  {
   "cell_type": "code",
   "id": "97071759e7e6a47",
   "metadata": {},
   "source": [
    "model.compile(\n",
    "loss=tf.keras.losses.KLDivergence(),\n",
    "optimizer=tf.keras.optimizers.SGD(learning_rate=0.01),\n",
    "metrics=['acc'])"
   ],
   "outputs": [],
   "execution_count": null
  },
  {
   "cell_type": "code",
   "id": "30608465cb6c7649",
   "metadata": {},
   "source": [
    "checkpoint_filepath = 'modelS_KLD_SGD.keras'\n",
    "model_checkpoint_callback = keras.callbacks.ModelCheckpoint(\n",
    "    filepath=checkpoint_filepath,\n",
    "    monitor='val_loss',\n",
    "    save_best_only=True)"
   ],
   "outputs": [],
   "execution_count": null
  },
  {
   "cell_type": "code",
   "source": [
    "history_KLD_SGD = model.fit(\n",
    "train_dataset,\n",
    "epochs=50,\n",
    "validation_data=validation_dataset,\n",
    "callbacks=[model_checkpoint_callback])"
   ],
   "metadata": {
    "collapsed": false
   },
   "id": "892bec8a8f297bb9",
   "outputs": [],
   "execution_count": null
  },
  {
   "cell_type": "code",
   "metadata": {
    "collapsed": false
   },
   "source": [
    "best_epoch = np.argmin(history_KLD_SGD.history['val_loss']) + 1\n",
    "print(f\"Melhor época (menor val_loss): {best_epoch}\")"
   ],
   "id": "ba984fe9ca02bfae",
   "outputs": [],
   "execution_count": null
  },
  {
   "cell_type": "code",
   "id": "4fa4f0787b0de02e",
   "metadata": {},
   "source": [
    "modelS_KLD_SGD = keras.models.load_model('modelS_KLD_SGD.keras')\n",
    "val_loss, val_acc = modelS_KLD_SGD.evaluate(validation_dataset)\n",
    "print('val_acc:', val_acc)"
   ],
   "outputs": [],
   "execution_count": null
  },
  {
   "cell_type": "code",
   "id": "47216491411c690d",
   "metadata": {},
   "source": [
    "acc = history_KLD_SGD.history['acc']\n",
    "val_acc = history_KLD_SGD.history['val_acc']\n",
    "loss = history_KLD_SGD.history['loss']\n",
    "val_loss = history_KLD_SGD.history['val_loss']\n",
    "epochs = range(1, len(acc) + 1)\n",
    "plt.plot(epochs, acc, 'bo', label='Training acc')\n",
    "plt.plot(epochs, val_acc, 'b', label='Validation acc')\n",
    "plt.title('Training and validation accuracy')\n",
    "plt.legend()\n",
    "plt.figure()\n",
    "plt.plot(epochs, loss, 'bo', label='Training loss')\n",
    "plt.plot(epochs, val_loss, 'b', label='Validation loss')\n",
    "plt.title('Training and validation loss')\n",
    "plt.legend()\n",
    "plt.show()"
   ],
   "outputs": [],
   "execution_count": null
  },
  {
   "cell_type": "code",
   "source": [
    "y_true, y_pred = get_true_pred(modelS_KLD_SGD, test_dataset)\n",
    "report = classification_report(y_true, y_pred, target_names=class_names, output_dict=True)\n",
    "class_only_report = {k: v for k, v in report.items() if k in class_names}\n",
    "df = pd.DataFrame(class_only_report).T\n",
    "print(df[['precision', 'recall', 'f1-score']].round(3))"
   ],
   "metadata": {
    "collapsed": false
   },
   "id": "155aafe2b5452f38",
   "outputs": [],
   "execution_count": null
  },
  {
   "cell_type": "code",
   "source": [
    "inputs = keras.Input(shape=(IMG_SIZE, IMG_SIZE, 3))\n",
    "x = layers.Rescaling(1./255)(inputs)\n",
    "x = layers.Conv2D(filters=32, kernel_size=3, activation=\"relu\")(x)\n",
    "x = layers.MaxPooling2D(pool_size=2)(x)\n",
    "x = layers.Conv2D(filters=64, kernel_size=3, activation=\"relu\")(x)\n",
    "x = layers.MaxPooling2D(pool_size=2)(x)\n",
    "x = layers.Conv2D(filters=128, kernel_size=3, activation=\"relu\")(x)\n",
    "x = layers.MaxPooling2D(pool_size=2)(x)\n",
    "x = layers.Conv2D(filters=128, kernel_size=3, activation=\"relu\")(x)\n",
    "x = layers.MaxPooling2D(pool_size=2)(x)\n",
    "x = layers.Flatten()(x)\n",
    "x = layers.Dense(512, activation=\"relu\")(x)\n",
    "outputs = layers.Dense(len(class_names), activation=\"softmax\")(x)\n",
    "model = keras.Model(inputs=inputs, outputs=outputs)\n",
    "\n",
    "print(model.summary())"
   ],
   "metadata": {
    "collapsed": false
   },
   "id": "64de5de2e3924167",
   "outputs": [],
   "execution_count": null
  },
  {
   "cell_type": "code",
   "id": "9f76889bf45e7f13",
   "metadata": {},
   "source": [
    "model.compile(\n",
    "    loss='categorical_crossentropy',\n",
    "    optimizer=tf.keras.optimizers.SGD(learning_rate=0.01),\n",
    "    metrics=['acc'])"
   ],
   "outputs": [],
   "execution_count": null
  },
  {
   "cell_type": "code",
   "id": "1a3c908056ad1514",
   "metadata": {},
   "source": [
    "checkpoint_filepath = 'modelS_CatCross_SGD.keras'\n",
    "model_checkpoint_callback = keras.callbacks.ModelCheckpoint(\n",
    "    filepath=checkpoint_filepath,\n",
    "    monitor='val_loss',\n",
    "    save_best_only=True)"
   ],
   "outputs": [],
   "execution_count": null
  },
  {
   "cell_type": "code",
   "id": "5266ceb8736c9990",
   "metadata": {},
   "source": [
    "history_CatCross_SGD = model.fit(\n",
    "train_dataset,\n",
    "epochs=50,\n",
    "validation_data=validation_dataset,\n",
    "callbacks=[model_checkpoint_callback])"
   ],
   "outputs": [],
   "execution_count": null
  },
  {
   "cell_type": "code",
   "metadata": {
    "collapsed": false
   },
   "source": [
    "best_epoch = np.argmin(history_CatCross_SGD.history['val_loss']) + 1\n",
    "print(f\"Melhor época (menor val_loss): {best_epoch}\")"
   ],
   "id": "24f13c1fbe905da5",
   "outputs": [],
   "execution_count": null
  },
  {
   "cell_type": "code",
   "id": "991996045ed00138",
   "metadata": {},
   "source": [
    "modelS_CatCross_SGD = keras.models.load_model('modelS_CatCross_SGD.keras')\n",
    "val_loss, val_acc = modelS_CatCross_SGD.evaluate(validation_dataset)\n",
    "print('val_acc:', val_acc)"
   ],
   "outputs": [],
   "execution_count": null
  },
  {
   "cell_type": "code",
   "id": "2e271670f12cb6b5",
   "metadata": {},
   "source": [
    "acc = history_CatCross_SGD.history['acc']\n",
    "val_acc = history_CatCross_SGD.history['val_acc']\n",
    "loss = history_CatCross_SGD.history['loss']\n",
    "val_loss = history_CatCross_SGD.history['val_loss']\n",
    "epochs = range(1, len(acc) + 1)\n",
    "plt.plot(epochs, acc, 'bo', label='Training acc')\n",
    "plt.plot(epochs, val_acc, 'b', label='Validation acc')\n",
    "plt.title('Training and validation accuracy')\n",
    "plt.legend()\n",
    "plt.figure()\n",
    "plt.plot(epochs, loss, 'bo', label='Training loss')\n",
    "plt.plot(epochs, val_loss, 'b', label='Validation loss')\n",
    "plt.title('Training and validation loss')\n",
    "plt.legend()\n",
    "plt.show()"
   ],
   "outputs": [],
   "execution_count": null
  },
  {
   "cell_type": "code",
   "source": [
    "y_true, y_pred = get_true_pred(modelS_CatCross_SGD, test_dataset)\n",
    "report = classification_report(y_true, y_pred, target_names=class_names, output_dict=True)\n",
    "class_only_report = {k: v for k, v in report.items() if k in class_names}\n",
    "df = pd.DataFrame(class_only_report).T\n",
    "print(df[['precision', 'recall', 'f1-score']].round(3))\n"
   ],
   "metadata": {
    "collapsed": false
   },
   "id": "2073bc6ee9528947",
   "outputs": [],
   "execution_count": null
  },
  {
   "cell_type": "code",
   "source": [
    "inputs = keras.Input(shape=(IMG_SIZE, IMG_SIZE, 3))\n",
    "x = layers.Rescaling(1./255)(inputs)\n",
    "x = layers.Conv2D(filters=32, kernel_size=3, activation=\"relu\")(x)\n",
    "x = layers.MaxPooling2D(pool_size=2)(x)\n",
    "x = layers.Conv2D(filters=64, kernel_size=3, activation=\"relu\")(x)\n",
    "x = layers.MaxPooling2D(pool_size=2)(x)\n",
    "x = layers.Conv2D(filters=128, kernel_size=3, activation=\"relu\")(x)\n",
    "x = layers.MaxPooling2D(pool_size=2)(x)\n",
    "x = layers.Conv2D(filters=128, kernel_size=3, activation=\"relu\")(x)\n",
    "x = layers.MaxPooling2D(pool_size=2)(x)\n",
    "x = layers.Flatten()(x)\n",
    "x = layers.Dense(512, activation=\"relu\")(x)\n",
    "outputs = layers.Dense(len(class_names), activation=\"softmax\")(x)\n",
    "model = keras.Model(inputs=inputs, outputs=outputs)\n",
    "\n",
    "print(model.summary())"
   ],
   "metadata": {
    "collapsed": false
   },
   "id": "97cfbea575e68825",
   "outputs": [],
   "execution_count": null
  },
  {
   "cell_type": "code",
   "id": "1ac447e26af5a49e",
   "metadata": {},
   "source": [
    "model.compile(\n",
    "    loss=tf.keras.losses.KLDivergence(),\n",
    "    optimizer=tf.keras.optimizers.RMSprop(learning_rate=1e-4),\n",
    "    metrics=['acc'])"
   ],
   "outputs": [],
   "execution_count": null
  },
  {
   "cell_type": "code",
   "id": "24fa153ed2b1e133",
   "metadata": {},
   "source": [
    "checkpoint_filepath = 'modelS_KLD_RMS.keras'\n",
    "model_checkpoint_callback = keras.callbacks.ModelCheckpoint(\n",
    "    filepath=checkpoint_filepath,\n",
    "    monitor='val_loss',\n",
    "    save_best_only=True)"
   ],
   "outputs": [],
   "execution_count": null
  },
  {
   "cell_type": "code",
   "id": "229f7ee002003125",
   "metadata": {},
   "source": [
    "history_KLD_RMS = model.fit(\n",
    "train_dataset,\n",
    "epochs=50,\n",
    "validation_data=validation_dataset,\n",
    "callbacks=[model_checkpoint_callback])"
   ],
   "outputs": [],
   "execution_count": null
  },
  {
   "cell_type": "code",
   "metadata": {
    "collapsed": false
   },
   "source": [
    "best_epoch = np.argmin(history_KLD_RMS.history['val_loss']) + 1\n",
    "print(f\"Melhor época (menor val_loss): {best_epoch}\")"
   ],
   "id": "5d532001e31abdcd",
   "outputs": [],
   "execution_count": null
  },
  {
   "cell_type": "code",
   "id": "ea8af71448bfda55",
   "metadata": {},
   "source": [
    "modelS_KLD_RMS = keras.models.load_model('modelS_KLD_RMS.keras')\n",
    "val_loss, val_acc = modelS_KLD_RMS.evaluate(validation_dataset)\n",
    "print('val_acc:', val_acc)"
   ],
   "outputs": [],
   "execution_count": null
  },
  {
   "cell_type": "code",
   "id": "10e280e97dc7f34",
   "metadata": {},
   "source": [
    "acc = history_KLD_RMS.history['acc']\n",
    "val_acc = history_KLD_RMS.history['val_acc']\n",
    "loss = history_KLD_RMS.history['loss']\n",
    "val_loss = history_KLD_RMS.history['val_loss']\n",
    "epochs = range(1, len(acc) + 1)\n",
    "plt.plot(epochs, acc, 'bo', label='Training acc')\n",
    "plt.plot(epochs, val_acc, 'b', label='Validation acc')\n",
    "plt.title('Training and validation accuracy')\n",
    "plt.legend()\n",
    "plt.figure()\n",
    "plt.plot(epochs, loss, 'bo', label='Training loss')\n",
    "plt.plot(epochs, val_loss, 'b', label='Validation loss')\n",
    "plt.title('Training and validation loss')\n",
    "plt.legend()\n",
    "plt.show()"
   ],
   "outputs": [],
   "execution_count": null
  },
  {
   "cell_type": "code",
   "source": [
    "y_true, y_pred = get_true_pred(modelS_KLD_RMS, test_dataset)\n",
    "report = classification_report(y_true, y_pred, target_names=class_names, output_dict=True)\n",
    "class_only_report = {k: v for k, v in report.items() if k in class_names}\n",
    "df = pd.DataFrame(class_only_report).T\n",
    "print(df[['precision', 'recall', 'f1-score']].round(3))"
   ],
   "metadata": {
    "collapsed": false
   },
   "id": "4c154f4b210b9d82",
   "outputs": [],
   "execution_count": null
  },
  {
   "cell_type": "code",
   "id": "769a29b61e17f377",
   "metadata": {},
   "source": [
    "val_loss_CatCross_RMS, val_acc_CatCross_RMS = modelS_CatCross_RMS.evaluate(validation_dataset)\n",
    "val_loss_CatCross_SGD, val_acc_CatCross_SGD = modelS_CatCross_SGD.evaluate(validation_dataset)\n",
    "val_loss_KLD_RMS, val_acc_KLD_RMS = modelS_KLD_RMS.evaluate(validation_dataset)\n",
    "val_loss_KLD_SGD, val_acc_KLD_SGD = modelS_KLD_SGD.evaluate(validation_dataset)\n",
    "\n",
    "print(\"Validation Accuracy dos modelos:\")\n",
    "print(f\"CatCross + RMSprop: {val_acc_CatCross_RMS:.4f}\")\n",
    "print(f\"CatCross + SGD    : {val_acc_CatCross_SGD:.4f}\")\n",
    "print(f\"KLD      + RMSprop: {val_acc_KLD_RMS:.4f}\")\n",
    "print(f\"KLD      + SGD    : {val_acc_KLD_SGD:.4f}\")\n",
    "\n",
    "results = {\n",
    "    'CatCross_RMS': val_acc_CatCross_RMS,\n",
    "    'CatCross_SGD': val_acc_CatCross_SGD,\n",
    "    'KLD_RMS': val_acc_KLD_RMS,\n",
    "    'KLD_SGD': val_acc_KLD_SGD\n",
    "}\n",
    "\n",
    "# Identificação do melhor modelo com base na maior val_accuracy\n",
    "best_model = max(results, key=results.get)\n",
    "best_accuracy = results[best_model]\n",
    "\n",
    "print(f\"\\nMelhor modelo: {best_model} com val_accuracy = {best_accuracy:.4f}\")"
   ],
   "outputs": [],
   "execution_count": null
  },
  {
   "cell_type": "code",
   "source": [
    "y_true, y_pred = get_true_pred(modelS_CatCross_RMS, test_dataset)\n",
    "cm = confusion_matrix(y_true, y_pred)\n",
    "\n",
    "plt.figure(figsize=(6, 6))\n",
    "sns.heatmap(cm, annot=True, fmt='d', cmap='Blues',\n",
    "            xticklabels=class_names,\n",
    "            yticklabels=class_names)\n",
    "plt.xlabel('Predicted')\n",
    "plt.ylabel('True')\n",
    "plt.title('Confusion Matrix - Melhor Modelo')\n",
    "plt.tight_layout()\n",
    "plt.show()"
   ],
   "metadata": {
    "collapsed": false
   },
   "id": "c46c3dc6dc1d7163",
   "outputs": [],
   "execution_count": null
  },
  {
   "cell_type": "code",
   "id": "b112c48740edad82",
   "metadata": {},
   "source": [
    "img_path = 'Dataset/archive/seg_test/sea/20072.jpg'\n",
    "\n",
    "img = tf.keras.preprocessing.image.load_img(\n",
    "    img_path,\n",
    "    target_size=(150, 150),\n",
    "    interpolation='bilinear'\n",
    ")\n",
    "\n",
    "plt.imshow(img)\n",
    "plt.axis('off')\n",
    "plt.title(\"Imagem de Teste\")\n",
    "plt.show()\n",
    "\n",
    "img_array = tf.keras.preprocessing.image.img_to_array(img)\n",
    "img_array = tf.expand_dims(img_array, 0)\n",
    "\n",
    "result = modelS_CatCross_RMS.predict(img_array)\n",
    "\n",
    "class_names = ['buildings', 'forest', 'glacier', 'mountain', 'sea', 'street']\n",
    "print(\"Probabilidades por classe:\")\n",
    "for i, prob in enumerate(result[0]):\n",
    "    print(f\"{class_names[i]:>10s}: {prob:.4f}\")\n",
    "\n",
    "\n",
    "predicted_class = np.argmax(result)\n",
    "print(f\"\\nClasse prevista: {class_names[predicted_class]} ({result[0][predicted_class]:.4f})\")\n",
    "\n"
   ],
   "outputs": [],
   "execution_count": null
  }
 ],
 "metadata": {
  "kernelspec": {
   "display_name": "Python 3",
   "language": "python",
   "name": "python3"
  },
  "language_info": {
   "codemirror_mode": {
    "name": "ipython",
    "version": 2
   },
   "file_extension": ".py",
   "mimetype": "text/x-python",
   "name": "python",
   "nbconvert_exporter": "python",
   "pygments_lexer": "ipython2",
   "version": "2.7.6"
  }
 },
 "nbformat": 4,
 "nbformat_minor": 5
}
